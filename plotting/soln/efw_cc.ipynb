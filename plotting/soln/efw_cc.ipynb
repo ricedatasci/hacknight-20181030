{
 "cells": [
  {
   "cell_type": "code",
   "execution_count": 1,
   "metadata": {},
   "outputs": [
    {
     "name": "stderr",
     "output_type": "stream",
     "text": [
      "Loading tidyverse: ggplot2\n",
      "Loading tidyverse: tibble\n",
      "Loading tidyverse: tidyr\n",
      "Loading tidyverse: readr\n",
      "Loading tidyverse: purrr\n",
      "Loading tidyverse: dplyr\n",
      "Conflicts with tidy packages ---------------------------------------------------\n",
      "filter(): dplyr, stats\n",
      "lag():    dplyr, stats\n"
     ]
    }
   ],
   "source": [
    "library(tidyverse)"
   ]
  },
  {
   "cell_type": "code",
   "execution_count": null,
   "metadata": {},
   "outputs": [
    {
     "name": "stderr",
     "output_type": "stream",
     "text": [
      "Parsed with column specification:\n",
      "cols(\n",
      "  .default = col_double(),\n",
      "  year = col_integer(),\n",
      "  ISO_code = col_character(),\n",
      "  countries = col_character(),\n",
      "  rank = col_integer(),\n",
      "  quartile = col_integer(),\n",
      "  `1c_gov_enterprises` = col_integer(),\n",
      "  `3d_freedom_own_foreign_currency` = col_integer()\n",
      ")\n",
      "See spec(...) for full column specifications.\n",
      "Warning message:\n",
      "“Removed 4 rows containing missing values (geom_path).”"
     ]
    }
   ],
   "source": [
    "data <- read_csv(\"../data/efw_cc.csv\")\n",
    "data$year <- factor(data$year)\n",
    "data$countries <- factor(data$countries)\n",
    "colnames(data)[4] <- \"Economic_Freedom\"\n",
    "options(repr.plot.width=8, repr.plot.height=10)\n",
    "data %>% filter(!is.na(Economic_Freedom) | !is.na(year)) %>% group_by(year) %>%\n",
    "ggplot(aes(year,Economic_Freedom, fill = Economic_Freedom, group = 1))+\n",
    "geom_line(aes(color = Economic_Freedom))+\n",
    "facet_wrap(~countries)+theme_bw()+\n",
    "theme(legend.position = \"none\", axis.text.x = element_blank(), \n",
    "      strip.text.x = element_text(size = 6))\n",
    "\n",
    "ggsave(\"../figs/efw-cc.png\")"
   ]
  }
 ],
 "metadata": {
  "kernelspec": {
   "display_name": "R",
   "language": "R",
   "name": "ir"
  },
  "language_info": {
   "codemirror_mode": "r",
   "file_extension": ".r",
   "mimetype": "text/x-r-source",
   "name": "R",
   "pygments_lexer": "r",
   "version": "3.4.1"
  }
 },
 "nbformat": 4,
 "nbformat_minor": 2
}
